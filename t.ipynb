{
 "cells": [
  {
   "cell_type": "code",
   "execution_count": 1,
   "metadata": {},
   "outputs": [],
   "source": [
    "from pdfcompose import to_pdf\n",
    "import json"
   ]
  },
  {
   "cell_type": "code",
   "execution_count": 2,
   "metadata": {},
   "outputs": [],
   "source": [
    "def load_json_data(file_path):\n",
    "    with open(file_path, 'r', encoding='utf-8') as file:\n",
    "        return json.load(file)"
   ]
  },
  {
   "cell_type": "code",
   "execution_count": 3,
   "metadata": {},
   "outputs": [],
   "source": [
    "jsd=load_json_data(\"test.json\")"
   ]
  },
  {
   "cell_type": "code",
   "execution_count": 4,
   "metadata": {},
   "outputs": [
    {
     "name": "stdout",
     "output_type": "stream",
     "text": [
      "{'basic': {'name': 'Tseng', 'email': 'tseng91301@gmail.com', 'phone': '0975576037', 'address': 'NTU in Taipei'}, 'education': {'num': 2, 'info': [{'un': 'National Taiwan university', 'dn': 'Bachelor', 'ka': 'Good', 'cc': 'Taipei, Taiwan', 'gmy': '2026/06'}, {'un': 'NCCU', 'dn': 'Bachelor', 'ka': 'Good', 'cc': 'Taipei, Taiwan', 'gmy': '2028/06'}]}, 'professional': {'num': 0, 'info': []}, 'leadership': {'num': 1, 'info': [{'on': '總統府', 'p': '總統', 'ka': '統領國家', 'cc': 'Taipei, Taiwan', 'gmy': '2020-2024'}]}, 'skill': {'num': 1, 'info': [{'t': '很會寫程式', 'Description': 'I joined the computer programming club', 'Importance': 'very important'}]}, 'additional': {'num': 1, 'info': [{'t': '我很想加入你們的行列', 'Description': 'the job you provide is very nice!'}]}, 'certification': {'num': 1, 'info': [{'t': 'APCS檢定證照'}]}}\n"
     ]
    }
   ],
   "source": [
    "print(jsd)"
   ]
  },
  {
   "cell_type": "code",
   "execution_count": 5,
   "metadata": {},
   "outputs": [
    {
     "name": "stderr",
     "output_type": "stream",
     "text": [
      "C:\\Users\\tseng\\AppData\\Roaming\\Python\\Python310\\site-packages\\fpdf\\ttfonts.py:670: UserWarning: cmap value too big/small: -34821\n",
      "  warnings.warn(\"cmap value too big/small: %s\" % cm)\n",
      "C:\\Users\\tseng\\AppData\\Roaming\\Python\\Python310\\site-packages\\fpdf\\ttfonts.py:670: UserWarning: cmap value too big/small: -35589\n",
      "  warnings.warn(\"cmap value too big/small: %s\" % cm)\n",
      "C:\\Users\\tseng\\AppData\\Roaming\\Python\\Python310\\site-packages\\fpdf\\ttfonts.py:670: UserWarning: cmap value too big/small: -38866\n",
      "  warnings.warn(\"cmap value too big/small: %s\" % cm)\n"
     ]
    }
   ],
   "source": [
    "to_pdf.gen(jsd)"
   ]
  },
  {
   "cell_type": "code",
   "execution_count": null,
   "metadata": {},
   "outputs": [],
   "source": []
  }
 ],
 "metadata": {
  "kernelspec": {
   "display_name": "Python 3",
   "language": "python",
   "name": "python3"
  },
  "language_info": {
   "codemirror_mode": {
    "name": "ipython",
    "version": 3
   },
   "file_extension": ".py",
   "mimetype": "text/x-python",
   "name": "python",
   "nbconvert_exporter": "python",
   "pygments_lexer": "ipython3",
   "version": "3.10.8"
  }
 },
 "nbformat": 4,
 "nbformat_minor": 2
}
