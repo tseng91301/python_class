{
 "cells": [
  {
   "cell_type": "code",
   "execution_count": 2,
   "metadata": {},
   "outputs": [],
   "source": [
    "a=list([\"dsjflkjsd\"])"
   ]
  },
  {
   "cell_type": "code",
   "execution_count": 3,
   "metadata": {},
   "outputs": [
    {
     "data": {
      "text/plain": [
       "'dsjflkjsd'"
      ]
     },
     "execution_count": 3,
     "metadata": {},
     "output_type": "execute_result"
    }
   ],
   "source": [
    "a[0]"
   ]
  },
  {
   "cell_type": "code",
   "execution_count": 4,
   "metadata": {},
   "outputs": [],
   "source": [
    "a=[\"fjsdlkjdsk\"]"
   ]
  },
  {
   "cell_type": "code",
   "execution_count": 5,
   "metadata": {},
   "outputs": [
    {
     "data": {
      "text/plain": [
       "'fjsdlkjdsk'"
      ]
     },
     "execution_count": 5,
     "metadata": {},
     "output_type": "execute_result"
    }
   ],
   "source": [
    "a[0]"
   ]
  },
  {
   "cell_type": "code",
   "execution_count": 6,
   "metadata": {},
   "outputs": [
    {
     "data": {
      "text/plain": [
       "1"
      ]
     },
     "execution_count": 6,
     "metadata": {},
     "output_type": "execute_result"
    }
   ],
   "source": [
    "len(a)"
   ]
  },
  {
   "cell_type": "code",
   "execution_count": 16,
   "metadata": {},
   "outputs": [
    {
     "name": "stdout",
     "output_type": "stream",
     "text": [
      "['fjlsdfj', 'sduhflkdj', 'dj']\n"
     ]
    }
   ],
   "source": [
    "mode=[\"fjlsdfj\",\"sduhflkdj\",\"dj\"]\n",
    "print(str(mode))"
   ]
  },
  {
   "cell_type": "code",
   "execution_count": 17,
   "metadata": {},
   "outputs": [
    {
     "name": "stdout",
     "output_type": "stream",
     "text": [
      "['fjlsdfj', 'sduhflkdj']\n"
     ]
    }
   ],
   "source": [
    "mode.pop()\n",
    "print(mode)"
   ]
  },
  {
   "cell_type": "code",
   "execution_count": 40,
   "metadata": {},
   "outputs": [],
   "source": [
    "import re\n",
    "def detect_back(inp):\n",
    "    return(bool(re.match(r\"^([Bb]{1}ack[(\\(\\))]{0,1}[;]{0,1})|(-[Bb]{1}\\s*)|(-)$\",inp)))"
   ]
  },
  {
   "cell_type": "code",
   "execution_count": 42,
   "metadata": {},
   "outputs": [
    {
     "name": "stdout",
     "output_type": "stream",
     "text": [
      "False\n"
     ]
    }
   ],
   "source": [
    "print(detect_back(\"fsdf\"))"
   ]
  },
  {
   "cell_type": "code",
   "execution_count": 43,
   "metadata": {},
   "outputs": [],
   "source": [
    "def detect_help(inp):\n",
    "    return(bool(re.match(r\"^(-){,2}[hH]{1}(elp){0,1}\\s*$\",inp)))"
   ]
  },
  {
   "cell_type": "code",
   "execution_count": 50,
   "metadata": {},
   "outputs": [
    {
     "data": {
      "text/plain": [
       "True"
      ]
     },
     "execution_count": 50,
     "metadata": {},
     "output_type": "execute_result"
    }
   ],
   "source": [
    "detect_help(\"help\")"
   ]
  },
  {
   "cell_type": "code",
   "execution_count": 51,
   "metadata": {},
   "outputs": [],
   "source": [
    "a=\"ddsfdFFDS\""
   ]
  },
  {
   "cell_type": "code",
   "execution_count": 52,
   "metadata": {},
   "outputs": [
    {
     "name": "stdout",
     "output_type": "stream",
     "text": [
      "ddsfdffds\n"
     ]
    }
   ],
   "source": [
    "print(a.lower())"
   ]
  },
  {
   "cell_type": "code",
   "execution_count": 94,
   "metadata": {},
   "outputs": [],
   "source": [
    "s=list([\"abc\",\"def\",\"ghi\",1,\"fsd\"])"
   ]
  },
  {
   "cell_type": "code",
   "execution_count": 98,
   "metadata": {},
   "outputs": [],
   "source": [
    "def check_exist(data:list,inp:list):\n",
    "    find=0\n",
    "    try:\n",
    "        for n1,d1 in enumerate(data):\n",
    "            find1=1\n",
    "            for n2,d2 in enumerate(inp):\n",
    "                if(data[n1+n2]!=inp[n2]):\n",
    "                    find1=0\n",
    "                    break\n",
    "            if(find1):\n",
    "                find=1\n",
    "                break\n",
    "    except:\n",
    "        find=0\n",
    "    return bool(find)"
   ]
  },
  {
   "cell_type": "code",
   "execution_count": 100,
   "metadata": {},
   "outputs": [
    {
     "name": "stdout",
     "output_type": "stream",
     "text": [
      "True\n"
     ]
    }
   ],
   "source": [
    "print(check_exist(s,[1,\"fsd\"]))"
   ]
  },
  {
   "cell_type": "code",
   "execution_count": 68,
   "metadata": {},
   "outputs": [],
   "source": [
    "s=\"fsdjfs\""
   ]
  },
  {
   "cell_type": "code",
   "execution_count": 69,
   "metadata": {},
   "outputs": [],
   "source": [
    "s+=\"fsdklf\""
   ]
  },
  {
   "cell_type": "code",
   "execution_count": 70,
   "metadata": {},
   "outputs": [
    {
     "data": {
      "text/plain": [
       "'fsdjfsfsdklf'"
      ]
     },
     "execution_count": 70,
     "metadata": {},
     "output_type": "execute_result"
    }
   ],
   "source": [
    "s"
   ]
  },
  {
   "cell_type": "code",
   "execution_count": 71,
   "metadata": {},
   "outputs": [
    {
     "name": "stdout",
     "output_type": "stream",
     "text": [
      "Index: 0, Value: 5\n",
      "Index: 1, Value: 4\n",
      "Index: 2, Value: 3\n",
      "Index: 3, Value: 2\n",
      "Index: 4, Value: 1\n"
     ]
    }
   ],
   "source": [
    "data = [1, 2, 3, 4, 5]\n",
    "\n",
    "for n, v in enumerate(reversed(data)):\n",
    "    # 在這裡，n是索引，v是值\n",
    "    print(f\"Index: {n}, Value: {v}\")\n"
   ]
  },
  {
   "cell_type": "code",
   "execution_count": 73,
   "metadata": {},
   "outputs": [
    {
     "name": "stdout",
     "output_type": "stream",
     "text": [
      "    fkslgg   \n",
      "fkslgg\n"
     ]
    }
   ],
   "source": [
    "s=\"    fkslgg   \"\n",
    "print(s)\n",
    "s=s.strip()\n",
    "print(s)"
   ]
  },
  {
   "cell_type": "code",
   "execution_count": 74,
   "metadata": {},
   "outputs": [],
   "source": [
    "d={\n",
    "    \"name\":\"fdsf\",\n",
    "    \"val\":[\n",
    "        1,2,3,4,5\n",
    "    ]\n",
    "}"
   ]
  },
  {
   "cell_type": "code",
   "execution_count": 75,
   "metadata": {},
   "outputs": [],
   "source": [
    "d[\"val\"].append(4)"
   ]
  },
  {
   "cell_type": "code",
   "execution_count": 76,
   "metadata": {},
   "outputs": [
    {
     "data": {
      "text/plain": [
       "{'name': 'fdsf', 'val': [1, 2, 3, 4, 5, 4]}"
      ]
     },
     "execution_count": 76,
     "metadata": {},
     "output_type": "execute_result"
    }
   ],
   "source": [
    "d"
   ]
  },
  {
   "cell_type": "code",
   "execution_count": 85,
   "metadata": {},
   "outputs": [],
   "source": [
    "def rmv(inp:list,ele):\n",
    "    tmpa=[]\n",
    "    for i,v in enumerate(inp):\n",
    "        if i not in ele:\n",
    "            tmpa.append(v)\n",
    "    return tmpa\n",
    "def rmv2(inp:dict,ele):\n",
    "    tmpa={}\n",
    "    for i,v in enumerate(inp):\n",
    "        if i not in ele:\n",
    "            tmpa.update({v:inp[v]})\n",
    "    return tmpa"
   ]
  },
  {
   "cell_type": "code",
   "execution_count": 86,
   "metadata": {},
   "outputs": [],
   "source": [
    "a=[\n",
    "    {\n",
    "        \"A\":\"a\",\n",
    "        \"B\":\"b\"\n",
    "    },\n",
    "    {\n",
    "        \"C\":\"c\",\n",
    "        \"D\":\"d\"\n",
    "    }\n",
    "]"
   ]
  },
  {
   "cell_type": "code",
   "execution_count": 87,
   "metadata": {},
   "outputs": [
    {
     "name": "stdout",
     "output_type": "stream",
     "text": [
      "[{'A': 'a', 'B': 'b'}, {'C': 'c', 'D': 'd'}]\n",
      "[{'A': 'a', 'B': 'b'}]\n"
     ]
    }
   ],
   "source": [
    "print(a)\n",
    "a=rmv(a,[1])\n",
    "print(a)"
   ]
  },
  {
   "cell_type": "code",
   "execution_count": 92,
   "metadata": {},
   "outputs": [],
   "source": [
    "def help_mode(mode,startl=1,endl=1):\n",
    "    helpinfo=\"\"\n",
    "    try:\n",
    "        for n,v in enumerate(mode):\n",
    "            if(n<startl):\n",
    "                if(n!=0):\n",
    "                    helpinfo+=\"-\"\n",
    "                helpinfo+=str(v)\n",
    "        helpinfo+=\"-\"\n",
    "        for n,v in enumerate(reversed(mode)):\n",
    "            if(n<endl):\n",
    "                if(n!=0):\n",
    "                    helpinfo+=\"-\"\n",
    "                helpinfo+=str(v)\n",
    "    except Exception as e:\n",
    "        print(str(e))\n",
    "    return helpinfo"
   ]
  },
  {
   "cell_type": "code",
   "execution_count": 93,
   "metadata": {},
   "outputs": [
    {
     "data": {
      "text/plain": [
       "'1-5'"
      ]
     },
     "execution_count": 93,
     "metadata": {},
     "output_type": "execute_result"
    }
   ],
   "source": [
    "help_mode([1,2,3,4,5])"
   ]
  },
  {
   "cell_type": "code",
   "execution_count": 104,
   "metadata": {},
   "outputs": [],
   "source": [
    "s=\"1, 2, 3\"\n",
    "dn=s.split(\",\")\n",
    "dn2=list()\n",
    "for v in dn:\n",
    "    dn2.append(int(v))"
   ]
  },
  {
   "cell_type": "code",
   "execution_count": 105,
   "metadata": {},
   "outputs": [
    {
     "data": {
      "text/plain": [
       "[1, 2, 3]"
      ]
     },
     "execution_count": 105,
     "metadata": {},
     "output_type": "execute_result"
    }
   ],
   "source": [
    "dn2"
   ]
  },
  {
   "cell_type": "code",
   "execution_count": 108,
   "metadata": {},
   "outputs": [],
   "source": [
    "a={\n",
    "    \"a\":\"a1\",\n",
    "    \"b\":\"b1\"\n",
    "}"
   ]
  },
  {
   "cell_type": "code",
   "execution_count": 110,
   "metadata": {},
   "outputs": [
    {
     "name": "stdout",
     "output_type": "stream",
     "text": [
      "0 , a , a1\n",
      "1 , b , b1\n"
     ]
    }
   ],
   "source": [
    "for n,v in enumerate(a):\n",
    "    print(n,\",\",v,\",\",a[v])"
   ]
  },
  {
   "cell_type": "code",
   "execution_count": null,
   "metadata": {},
   "outputs": [],
   "source": []
  }
 ],
 "metadata": {
  "kernelspec": {
   "display_name": "Python 3",
   "language": "python",
   "name": "python3"
  },
  "language_info": {
   "codemirror_mode": {
    "name": "ipython",
    "version": 3
   },
   "file_extension": ".py",
   "mimetype": "text/x-python",
   "name": "python",
   "nbconvert_exporter": "python",
   "pygments_lexer": "ipython3",
   "version": "3.10.8"
  }
 },
 "nbformat": 4,
 "nbformat_minor": 2
}
