{
 "cells": [
  {
   "cell_type": "code",
   "execution_count": 52,
   "metadata": {},
   "outputs": [],
   "source": [
    "def dict_contains(parent_dict:dict, child_dict:dict):\n",
    "    for key, value in parent_dict.items():\n",
    "        if isinstance(value,dict):\n",
    "            if(dict_contains(value,child_dict[key])):\n",
    "                continue\n",
    "            else:\n",
    "                return False\n",
    "        if key not in child_dict:\n",
    "            return False\n",
    "    return True\n"
   ]
  },
  {
   "cell_type": "code",
   "execution_count": 55,
   "metadata": {},
   "outputs": [],
   "source": [
    "\n",
    "# 示例用法\n",
    "parent_dict = {\n",
    "    \"basic\": {\n",
    "        \"name\": \"\",\n",
    "        \"email\": \"\",\n",
    "        \"phone\": \"\",\n",
    "        \"address\": \"\"\n",
    "    },\n",
    "    \"education\": {\n",
    "        \"num\": 0,\n",
    "        \"info\": []\n",
    "    },\n",
    "    \"professional\": {\n",
    "        \"num\": 0,\n",
    "        \"info\": []\n",
    "    },\n",
    "    \"leadership\": {\n",
    "        \"num\": 0,\n",
    "        \"info\": []\n",
    "    },\n",
    "    \"skill\": {\n",
    "        \"num\": 0,\n",
    "        \"info\": []\n",
    "    },\n",
    "    \"additional\": {\n",
    "        \"num\": 0,\n",
    "        \"info\": []\n",
    "    },\n",
    "    \"certification\": {\n",
    "        \"num\": 0,\n",
    "        \"info\": []\n",
    "    }\n",
    "}\n",
    "\n",
    "child_dict = {\n",
    "    \"basic\": {\n",
    "        \"name\": \"John Doe\",\n",
    "        \"email\": \"john@example.com\",\n",
    "        \"phone\": \"123-456-7890\",\n",
    "        \"address\": \"123 Main St\"\n",
    "    },\n",
    "    \"education\": {\n",
    "        \"num\": 1,\n",
    "        \"info\": [{\"degree\": \"Bachelor\", \"school\": \"University A\"}]\n",
    "    },\n",
    "    \"professional\": {\n",
    "        \"num\":0,\n",
    "        \"info\": [{\"position\": \"Developer\", \"company\": \"Company A\"},\n",
    "                 {\"position\": \"Analyst\", \"company\": \"Company B\"}]\n",
    "    },\n",
    "    \"leadership\": {\n",
    "        \"num\": 0,\n",
    "        \"info\": []\n",
    "    },\n",
    "    \"skill\": {\n",
    "        \"num\": 0,\n",
    "        \"info\": []\n",
    "    },\n",
    "    \"additional\": {\n",
    "        \"num\": 0,\n",
    "        \"info\": []\n",
    "    },\n",
    "    \"certification\": {\n",
    "        \"num\": 0,\n",
    "        \"info\": []\n",
    "    }\n",
    "}\n"
   ]
  },
  {
   "cell_type": "code",
   "execution_count": 56,
   "metadata": {},
   "outputs": [
    {
     "name": "stdout",
     "output_type": "stream",
     "text": [
      "child_dict 包含 parent_dict 的所有元素\n"
     ]
    }
   ],
   "source": [
    "if dict_contains(parent_dict, child_dict):\n",
    "    print(\"child_dict 包含 parent_dict 的所有元素\")\n",
    "else:\n",
    "    print(\"child_dict 不包含 parent_dict 的所有元素\")"
   ]
  },
  {
   "cell_type": "code",
   "execution_count": null,
   "metadata": {},
   "outputs": [],
   "source": []
  },
  {
   "cell_type": "code",
   "execution_count": null,
   "metadata": {},
   "outputs": [],
   "source": []
  }
 ],
 "metadata": {
  "kernelspec": {
   "display_name": "Python 3",
   "language": "python",
   "name": "python3"
  },
  "language_info": {
   "codemirror_mode": {
    "name": "ipython",
    "version": 3
   },
   "file_extension": ".py",
   "mimetype": "text/x-python",
   "name": "python",
   "nbconvert_exporter": "python",
   "pygments_lexer": "ipython3",
   "version": "3.10.8"
  }
 },
 "nbformat": 4,
 "nbformat_minor": 2
}
