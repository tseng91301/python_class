{
 "cells": [
  {
   "cell_type": "code",
   "execution_count": 1,
   "metadata": {},
   "outputs": [],
   "source": [
    "import requests"
   ]
  },
  {
   "cell_type": "code",
   "execution_count": 7,
   "metadata": {},
   "outputs": [],
   "source": [
    "def download_data(inp,v=1,ext=\"pdf\",name=\"\"):\n",
    "    inp=str(inp)\n",
    "    sendcm_first_url=inp\n",
    "    sendcm_first_response=requests.get(sendcm_first_url)\n",
    "    if(sendcm_first_response.status_code==200):\n",
    "        t1=sendcm_first_response.text\n",
    "        pattern = r\"(?<=\\<title\\>)[A-Za-z0-9]*(?=\\</title\\>)\"\n",
    "        upload_location=re.search(pattern,t1).group(0)\n",
    "        print(upload_location)\n",
    "    else:\n",
    "        print(sendcm_first_response.status_code)\n",
    "        print(sendcm_first_response.text)\n",
    "\n",
    "    upl_form_data={\n",
    "        \"utype\":\"anon\",\n",
    "        \"file_expire_unit\":\"DAY\",\n",
    "        \"keepalive\":1\n",
    "    }\n",
    "    if(v): # Virtual file data\n",
    "        \n",
    "        # 定义虚拟文件内容\n",
    "        file_content = inp.encode('utf-8')\n",
    "\n",
    "        # 创建一个 BytesIO 对象，用于模拟文件对象\n",
    "        virtual_file = BytesIO(file_content)\n",
    "\n",
    "        response=requests.post(upload_location,data=upl_form_data,files={str(datetime.now())+'.'+str(ext):virtual_file})\n",
    "    else:\n",
    "        response=requests.post(upload_location,data=upl_form_data,files={'file_0':open(name,'rb')})\n",
    "    file_id=json.loads(response.text)[0]['file_code']\n",
    "    if(file_id==\"undef\"):\n",
    "        #print(\"Failed to upload file, remote banned\")\n",
    "        return \"error\"\n",
    "\n",
    "    sendcm_getlink_url=\"https://send.cm/?op=upload_result&st=OK&fn=\"+file_id\n",
    "    t1=requests.get(sendcm_getlink_url).text\n",
    "    dl_link=(re.search(r'(?<=height:5px\">).*?(?=<\\/textarea>)',t1)).group(0)\n",
    "    return dl_link"
   ]
  },
  {
   "cell_type": "code",
   "execution_count": 8,
   "metadata": {},
   "outputs": [
    {
     "name": "stdout",
     "output_type": "stream",
     "text": [
      "403\n",
      "<!DOCTYPE html><html lang=\"en-US\"><head><title>Just a moment...</title><meta http-equiv=\"Content-Type\" content=\"text/html; charset=UTF-8\"><meta http-equiv=\"X-UA-Compatible\" content=\"IE=Edge\"><meta name=\"robots\" content=\"noindex,nofollow\"><meta name=\"viewport\" content=\"width=device-width,initial-scale=1\"><link href=\"/cdn-cgi/styles/challenges.css\" rel=\"stylesheet\"><meta http-equiv=\"refresh\" content=\"375\"></head><body class=\"no-js\"><div class=\"main-wrapper\" role=\"main\"><div class=\"main-content\"><noscript><div id=\"challenge-error-title\"><div class=\"h2\"><span class=\"icon-wrapper\"><div class=\"heading-icon warning-icon\"></div></span><span id=\"challenge-error-text\">Enable JavaScript and cookies to continue</span></div></div></noscript></div></div><script>(function(){window._cf_chl_opt={cvId: '2',cZone: \"send.cm\",cType: 'managed',cNounce: '59893',cRay: '8322725e3b457821',cHash: '5e0b9162e426471',cUPMDTk: \"\\/d\\/oEE1?__cf_chl_tk=lDUG49_6l_N9Iux_oRb27q_NFOwmeh7Evqx0PSSTvfQ-1702011647-0-gaNycGzNCjs\",cFPWv: 'b',cTTimeMs: '1000',cMTimeMs: '375000',cTplV: 5,cTplB: 'cf',cK: \"visitor-time\",fa: \"\\/d\\/oEE1?__cf_chl_f_tk=lDUG49_6l_N9Iux_oRb27q_NFOwmeh7Evqx0PSSTvfQ-1702011647-0-gaNycGzNCjs\",md: \"Tot6p.WLo5AYK0.H.bB0YPOgphw_ed.Cj1_GfUURv.g-1702011647-0-AX-CWn1x1k6cz_h0Ox-uGR-GGmhJ4aMqWcZgKBikjF-6noinejJ9BWRBZcD-J8pQUIeFDco3ndoVX2bZLqeQmxPcas6L8P2gznWx_Tkc6h_fo4TP5pA43sYXYfa8q328jSphUjFB-3hZP4V9Yaq_nuFazMcKdA46MQqFz7ooVOEWuVLpwrMF1lvzuo-ljaIB2JSUsGhp72quvEV-b3ltZVYbYO0PzUNP2tzmZZyyjGYPAfTirCMhYyiE5LR7H8R1bL0dYzTYbPp2RyT_ufiQgBgs1N5lIIUks7niM6yVZf-oOJk_XFdBLu6suD8Vir846r93FiZ3gGsyE36-pKLrTgmwk8JX6M5jgQmuEFNvTYniuQMJxdmD7WqXt9K8rOM0CKqp2Er1Gr_BFx87iHHpeRBjf10PCIKDd3BKnQGDlg-iKb9SM4tiqE77t4BckWbth9lFTWbFPDg1ejLG2cTDruByd0eldFFa6mu9d0d2US02BTTYwDIqUjBas_QXxmZxbDgEzuEaJi3HtGJ4h5oRmleg-Pxbpj5GCi-I4I93nAgIoHw-Az9g2cUzMw0yn7_7FZAy_ZN3v0e7ucuWaAYT_hzkqlOYl_uaZ2NDOn2TSKDRlgF6k5ji7jJu0pMuhCyglXpcaHuAAvm5EylslJVBsD0m0vx6Uw6pFWH0_SmqpvlVP3Hzy6F67UX4sh7eMyEhswfs0NtRAqeUzvZyRVExnSUmsSczntii9eaBUadr9_Bg6QDXaPqC4QOfdFlHS4E71znSnmATKwrmE4XH3L6iwYWK0vK9z1Hnf-mJ_YXDuHtcdq9PlAGKrBZUd0FDaub9WkS0CJYwsnxdvbIjQhudkQXTLzbJOULup45GiMQSZPBhvgy-nq50Y2-KebVzFf_MAbbOA_MYiG6k2yKgO6oWLpPKiuVnKiK48huVGgmu7oRc8NNxdTsb-vc-MdR9xUfhT4gWITJNvol-1rQSSTZWAojuffEwZn-XJ39_qtWed-eAkFtephBn6T6S5GAj_SFQ-OzDsKZcqV4ecUw4tbx0eLtgF2DQv_F_gNZShbqUBcVwQBQn1aW-ptk5vsWBb9HfiiiuwB-tZyzznuigT_C1XNXIx1uewpWR2uirRLrsuMkfNVXykUijBBGZxfh-JtHNg4DrZNqCOoJuurU-SvyXetS24tdLU34OLLK90Fh77iPRkgItS36wgAcXbMKmNAkOzuOlfjifm6gJzGczIzOdSR13eSxq-B1yF0qy5bSY4jPio3h7wP3s5GwqV4KKFg8Ascf-5zbr5Akbno3cUFGvmUhT7BpxmI5Hd8hbRxFaLbVglgOOgM1M8qLChcvi9YwFSoAazO1zLclFqBuSwqdL88_d3rxikRu9dnje3zuuIRkLOQlf84aCYVGsejIrThyACJOkpH3AOr-BSAVSMZcaVJ1Iv1D2a5ldxPO6R323Zmufo1cKhDgjTsm1oOzcNU4DE5J9rwj8M7cLFLw5IIlrvGfZ1zzGrXBelZOpS4qCuQ5uUVpo3VwSohVqASx9vUHRFcHoaDTSjf2tO4w5xGrjfdroaIQ8JggvKFjp9eHqw8EfEs-8GC73Wawu8cBZSsbkEuifLc_UKQxIk7KonczNq2uru6tBQN5b4yQf_248k56V4NuAjlwjEc8ZV1GlDQLy6PTC6xMOUkb3q7ODI-Xjyft8sSNx_fQrawQOxhhssQXiqV-Z-zDUzUH17hXCUnit2AMyp4fCbgHNdhDLKFusjD7gYBEjZsOKTwOFPQmej8MN3jRxG64VXympDQplIODALk-_BMvlzXC_y9Yu7kEfnWBUiOhdKjfHDxcD1kwU-Cts_HYnhNPSiKPGEWoYTT5Qwx--sw4xDiZaLnKT8ZMVnV4XPU4SEynzG1mOmKA4jVS10lUGW2586zMna6wVFeq9x2E7WDo5zLcPSUac-hSnI9mgg-mRelzd4izffb_MFn8CjmVcegtvNPdyqT-OZ9Tyd9fHPqu5aIUbSglTK6KwvEVi1ZVTkPhMtfq5WBUgyvewFgTIuyitMkIth6r_KMsNV3_aEHBJCybFkGIhm6bqxwF7GH828JszhCM0nv9MYD9Arz8zRCeHau-ZsHnydIG-OmYZHZOm8QgB56oalAi30NZhFkvU1TOIION9oScoLxzpYJQTeoUEb0mu2GRj707MN1fg4NuGKxyUF1Td2IkdGUIJ37XsKi0FCiMg1G5z61YdL6Y6JrYqJLdLgM9oQIJ06Fe9aQHgdnFyKmYKRnWS3k8IJE05OpzL5_DOh4nLQYxBFBFE76XmroKMKAFMHxEntJPAyskYP7NCPPCZnw-TgGQtlOwLHF3DVc1hSsN545euOQlleZk4J7FC_1zpNP7AYtYW07DLpGBhNg6Lxh7HRDF7ay6cj4sHW6yZ-ZgA-44e8AGSVp9aBTqU0-QLXm_JA7Qj3Wgy1Z9X39QMHP0rSvhUluQBI9s6XZQbWeS2VsoY9D462FXhHFEBodczZiQnehUIsIuCteXmznvms3UPZUgStKCF5KJWvBPfNZJwP7KBAEtd9VwZkzB6QHsUqi-czw\",cRq: {ru: 'aHR0cHM6Ly9zZW5kLmNtL2Qvb0VFMQ==',ra: 'cHl0aG9uLXJlcXVlc3RzLzIuMzEuMA==',rm: 'R0VU',d: 'Yae3z/DABD9ieW5xZcORzEAkVCcpEKB1Yzf5VikNa5x96wWQCGzPLdTJeDjpwm+nbW+635+/rEHH0N0PAZllGTNxJ45C+gtZQLEG9BzMVjJ58WMeQ8Li3Y4iuFVXoFNe7HdbTJhAxoXn9J0t9HrqdJaAQ8+nLd+Y+nDqu8m1mKtIy00cnN8VAOAhh/IEPSBV880Z2dZCLvvaAW//mT/oT82UY6/I+qeZh0l3Aa5V5cV9JHpzTJygfhrGebIkWpIZEv4yQKUXGq9J1+qyRYuK4g6W8xqFvoXI0vwKy+NmIriGj3wWJfVTdSN2usX4mCo1BuJCIlwrSEnFsUsvhtehov8KLT6SGDzsh7XaC4bEq5foW1hhB7jWMSyzYXbyuspeX8Kx+PGNbFNWrczIbNMo7f+7H+l7HozIW3sFOQlXqj/zNVlyOrCEBxtnVwP+6DXT0tV/xPYJi8ikSk1WFO9hinYQZV9Fuo0gz/5Z//pAF8iFpCsU5uODXXcGeF95horYMV5NI5zNF1l3xZ41wB7mm8/PWgurHVbziANFjlOnXSTuSCQvUF138awvKYE+OebFQXRt8YXTq/sdvXCcHukcBp85WN0AAhZZXGwKccxA14Y=',t: 'MTcwMjAxMTY0Ny43MTQwMDA=',cT: Math.floor(Date.now() / 1000),m: 'pu4rHmPDKi4TvoPdGiYRfk4zJeclJ0i6mVWqFsnDIGo=',i1: 'ezTvkS8K7xmYvwisc3xNCA==',i2: 'REaKZ0bFPQsQhd8cQYALDA==',zh: 'Oa9g3HnbRdxJGDGWhYhS/NCQu9ObHG+I6baEXthgBWM=',uh: 'YE9XOpG5TeHmhA1zfs5mxC8CrRZzq2a/+r+OU7dliYQ=',hh: 'GOJVgd1tSsRDVJiA6UVtZORzpd5tjE6aLhfVuGvXmEI=',}};var cpo = document.createElement('script');cpo.src = '/cdn-cgi/challenge-platform/h/b/orchestrate/chl_page/v1?ray=8322725e3b457821';window._cf_chl_opt.cOgUHash = location.hash === '' && location.href.indexOf('#') !== -1 ? '#' : location.hash;window._cf_chl_opt.cOgUQuery = location.search === '' && location.href.slice(0, location.href.length - window._cf_chl_opt.cOgUHash.length).indexOf('?') !== -1 ? '?' : location.search;if (window.history && window.history.replaceState) {var ogU = location.pathname + window._cf_chl_opt.cOgUQuery + window._cf_chl_opt.cOgUHash;history.replaceState(null, null, \"\\/d\\/oEE1?__cf_chl_rt_tk=lDUG49_6l_N9Iux_oRb27q_NFOwmeh7Evqx0PSSTvfQ-1702011647-0-gaNycGzNCjs\" + window._cf_chl_opt.cOgUHash);cpo.onload = function() {history.replaceState(null, null, ogU);}}document.getElementsByTagName('head')[0].appendChild(cpo);}());</script></body></html>\n"
     ]
    },
    {
     "ename": "NameError",
     "evalue": "name 'BytesIO' is not defined",
     "output_type": "error",
     "traceback": [
      "\u001b[1;31m---------------------------------------------------------------------------\u001b[0m",
      "\u001b[1;31mNameError\u001b[0m                                 Traceback (most recent call last)",
      "\u001b[1;32mc:\\Data\\Projects\\Python程式設計作業\\line_pdf_api\\test\\T2.ipynb Cell 3\u001b[0m line \u001b[0;36m1\n\u001b[1;32m----> <a href='vscode-notebook-cell:/c%3A/Data/Projects/Python%E7%A8%8B%E5%BC%8F%E8%A8%AD%E8%A8%88%E4%BD%9C%E6%A5%AD/line_pdf_api/test/T2.ipynb#W2sZmlsZQ%3D%3D?line=0'>1</a>\u001b[0m download_data(\u001b[39m\"\u001b[39;49m\u001b[39mhttps://send.cm/d/oEE1\u001b[39;49m\u001b[39m\"\u001b[39;49m)\n",
      "\u001b[1;32mc:\\Data\\Projects\\Python程式設計作業\\line_pdf_api\\test\\T2.ipynb Cell 3\u001b[0m line \u001b[0;36m2\n\u001b[0;32m     <a href='vscode-notebook-cell:/c%3A/Data/Projects/Python%E7%A8%8B%E5%BC%8F%E8%A8%AD%E8%A8%88%E4%BD%9C%E6%A5%AD/line_pdf_api/test/T2.ipynb#W2sZmlsZQ%3D%3D?line=21'>22</a>\u001b[0m     file_content \u001b[39m=\u001b[39m inp\u001b[39m.\u001b[39mencode(\u001b[39m'\u001b[39m\u001b[39mutf-8\u001b[39m\u001b[39m'\u001b[39m)\n\u001b[0;32m     <a href='vscode-notebook-cell:/c%3A/Data/Projects/Python%E7%A8%8B%E5%BC%8F%E8%A8%AD%E8%A8%88%E4%BD%9C%E6%A5%AD/line_pdf_api/test/T2.ipynb#W2sZmlsZQ%3D%3D?line=23'>24</a>\u001b[0m     \u001b[39m# 创建一个 BytesIO 对象，用于模拟文件对象\u001b[39;00m\n\u001b[1;32m---> <a href='vscode-notebook-cell:/c%3A/Data/Projects/Python%E7%A8%8B%E5%BC%8F%E8%A8%AD%E8%A8%88%E4%BD%9C%E6%A5%AD/line_pdf_api/test/T2.ipynb#W2sZmlsZQ%3D%3D?line=24'>25</a>\u001b[0m     virtual_file \u001b[39m=\u001b[39m BytesIO(file_content)\n\u001b[0;32m     <a href='vscode-notebook-cell:/c%3A/Data/Projects/Python%E7%A8%8B%E5%BC%8F%E8%A8%AD%E8%A8%88%E4%BD%9C%E6%A5%AD/line_pdf_api/test/T2.ipynb#W2sZmlsZQ%3D%3D?line=26'>27</a>\u001b[0m     response\u001b[39m=\u001b[39mrequests\u001b[39m.\u001b[39mpost(upload_location,data\u001b[39m=\u001b[39mupl_form_data,files\u001b[39m=\u001b[39m{\u001b[39mstr\u001b[39m(datetime\u001b[39m.\u001b[39mnow())\u001b[39m+\u001b[39m\u001b[39m'\u001b[39m\u001b[39m.\u001b[39m\u001b[39m'\u001b[39m\u001b[39m+\u001b[39m\u001b[39mstr\u001b[39m(ext):virtual_file})\n\u001b[0;32m     <a href='vscode-notebook-cell:/c%3A/Data/Projects/Python%E7%A8%8B%E5%BC%8F%E8%A8%AD%E8%A8%88%E4%BD%9C%E6%A5%AD/line_pdf_api/test/T2.ipynb#W2sZmlsZQ%3D%3D?line=27'>28</a>\u001b[0m \u001b[39melse\u001b[39;00m:\n",
      "\u001b[1;31mNameError\u001b[0m: name 'BytesIO' is not defined"
     ]
    }
   ],
   "source": [
    "download_data(\"https://send.cm/d/oEE1\")"
   ]
  },
  {
   "cell_type": "code",
   "execution_count": null,
   "metadata": {},
   "outputs": [],
   "source": []
  }
 ],
 "metadata": {
  "kernelspec": {
   "display_name": "Python 3",
   "language": "python",
   "name": "python3"
  },
  "language_info": {
   "codemirror_mode": {
    "name": "ipython",
    "version": 3
   },
   "file_extension": ".py",
   "mimetype": "text/x-python",
   "name": "python",
   "nbconvert_exporter": "python",
   "pygments_lexer": "ipython3",
   "version": "3.10.8"
  }
 },
 "nbformat": 4,
 "nbformat_minor": 2
}
