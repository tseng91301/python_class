{
 "cells": [
  {
   "cell_type": "code",
   "execution_count": 3,
   "metadata": {},
   "outputs": [
    {
     "name": "stdout",
     "output_type": "stream",
     "text": [
      "Index: 0, Value: 10\n",
      "Index: 1, Value: 20\n",
      "Index: 2, Value: 30\n",
      "Index: 3, Value: 40\n",
      "Index: 4, Value: 50\n"
     ]
    }
   ],
   "source": [
    "my_array = [10, 20, 30, 40, 50]\n",
    "\n",
    "for i, v in enumerate(my_array):\n",
    "    print(f\"Index: {i}, Value: {v}\")"
   ]
  },
  {
   "cell_type": "code",
   "execution_count": 8,
   "metadata": {},
   "outputs": [
    {
     "name": "stdout",
     "output_type": "stream",
     "text": [
      "[10, 30, 50]\n"
     ]
    }
   ],
   "source": [
    "my_array = [10, 20, 30, 40, 50]\n",
    "\n",
    "# 指定要刪除的元素位置\n",
    "indices_to_delete = [1, 3]\n",
    "\n",
    "tmpa=[]\n",
    "for i,v in enumerate(my_array):\n",
    "    if i not in indices_to_delete:\n",
    "        tmpa.append(v)\n",
    "my_array=tmpa\n",
    "\n",
    "print(my_array)"
   ]
  },
  {
   "cell_type": "code",
   "execution_count": 9,
   "metadata": {},
   "outputs": [],
   "source": [
    "from module import pdfgen"
   ]
  },
  {
   "cell_type": "code",
   "execution_count": 11,
   "metadata": {},
   "outputs": [
    {
     "name": "stdout",
     "output_type": "stream",
     "text": [
      "[12, 3, 4, 67]\n"
     ]
    }
   ],
   "source": [
    "arg=\"12\\n3\\n4\\n67\"\n",
    "t1=arg.split('\\n')\n",
    "t1=[int(ele) for ele in t1]\n",
    "print(t1)"
   ]
  },
  {
   "cell_type": "code",
   "execution_count": null,
   "metadata": {},
   "outputs": [],
   "source": []
  }
 ],
 "metadata": {
  "kernelspec": {
   "display_name": "Python 3",
   "language": "python",
   "name": "python3"
  },
  "language_info": {
   "codemirror_mode": {
    "name": "ipython",
    "version": 3
   },
   "file_extension": ".py",
   "mimetype": "text/x-python",
   "name": "python",
   "nbconvert_exporter": "python",
   "pygments_lexer": "ipython3",
   "version": "3.10.8"
  }
 },
 "nbformat": 4,
 "nbformat_minor": 2
}
